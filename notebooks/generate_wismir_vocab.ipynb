{
 "cells": [
  {
   "cell_type": "code",
   "execution_count": 3,
   "id": "level-afghanistan",
   "metadata": {},
   "outputs": [],
   "source": [
    "import numpy as np\n",
    "import pandas as pd\n",
    "import os\n",
    "from pathlib import Path"
   ]
  },
  {
   "cell_type": "code",
   "execution_count": 4,
   "id": "enabling-appeal",
   "metadata": {},
   "outputs": [],
   "source": [
    "data_path = Path(os.getcwd()).parent.joinpath(\"data\")\n",
    "assert data_path.exists()"
   ]
  },
  {
   "cell_type": "markdown",
   "id": "surrounded-tours",
   "metadata": {},
   "source": [
    "# Read WICSMMIR"
   ]
  },
  {
   "cell_type": "code",
   "execution_count": 5,
   "id": "molecular-vaccine",
   "metadata": {},
   "outputs": [
    {
     "name": "stdout",
     "output_type": "stream",
     "text": [
      "wicsmmir_v2.columns: Index(['index', 'wikicaps_id', 'caption'], dtype='object')\n",
      "len(wicsmmir_v2_test): 9380\n",
      "len(wicsmmir_v2_train): 386494\n",
      "len(wicsmmir_v2): 395874\n",
      "len(wicsmmir_v2_test) + len(wicsmmir_v2_train): 395874\n"
     ]
    }
   ],
   "source": [
    "wicsmmir_v2_test_p = data_path.joinpath(\"v2/test_set_v2.df.feather\")\n",
    "wicsmmir_v2_train_p = data_path.joinpath(\"v2/train_set_v2.df.feather\")\n",
    "assert wicsmmir_v2_test_p.exists()\n",
    "assert wicsmmir_v2_train_p.exists()\n",
    "wicsmmir_v2_test = pd.read_feather(wicsmmir_v2_test_p)\n",
    "wicsmmir_v2_train = pd.read_feather(wicsmmir_v2_train_p)\n",
    "wicsmmir_v2 = pd.concat([wicsmmir_v2_test, wicsmmir_v2_train], verify_integrity=True, ignore_index=True)\n",
    "\n",
    "print(f\"wicsmmir_v2.columns: {wicsmmir_v2.columns}\")\n",
    "print(f\"len(wicsmmir_v2_test): {len(wicsmmir_v2_test)}\")\n",
    "print(f\"len(wicsmmir_v2_train): {len(wicsmmir_v2_train)}\")\n",
    "print(f\"len(wicsmmir_v2): {len(wicsmmir_v2)}\")\n",
    "print(f\"len(wicsmmir_v2_test) + len(wicsmmir_v2_train): {len(wicsmmir_v2_test) + len(wicsmmir_v2_train)}\")"
   ]
  },
  {
   "cell_type": "markdown",
   "id": "separated-qatar",
   "metadata": {},
   "source": [
    "# Generate vocab for WICSMMIR V2 WITH SPACY"
   ]
  },
  {
   "cell_type": "code",
   "execution_count": 8,
   "id": "naked-honor",
   "metadata": {},
   "outputs": [],
   "source": [
    "import sys\n",
    "sys.path.append('..')\n",
    "from utils import generate_corpus_vocab"
   ]
  },
  {
   "cell_type": "code",
   "execution_count": 9,
   "id": "geographic-cheat",
   "metadata": {},
   "outputs": [
    {
     "name": "stderr",
     "output_type": "stream",
     "text": [
      "2021-04-15 18:09:38.132 | INFO     | utils:generate_corpus_vocab:149 - Generating corpus vocabulary using SPACY...\n",
      "100%|██████████| 395874/395874 [12:09<00:00, 542.95it/s]\n",
      "2021-04-15 18:21:48.755 | INFO     | utils:generate_corpus_vocab:171 - Finished generating corpus vocabulary in 730.6183226108551 seconds!\n"
     ]
    }
   ],
   "source": [
    "n_spacy_workers = 8\n",
    "\n",
    "vocab = generate_corpus_vocab(wicsmmir_v2, n_spacy_workers, backend='spacy')"
   ]
  },
  {
   "cell_type": "code",
   "execution_count": 17,
   "id": "neural-large",
   "metadata": {},
   "outputs": [],
   "source": [
    "vocab.sort_values(by=['count'], ascending=False, inplace=True)\n",
    "vocab.reset_index().to_feather(data_path.joinpath('v2/vocab_spacy_v2.df.feather'))"
   ]
  },
  {
   "cell_type": "code",
   "execution_count": 16,
   "id": "outdoor-flesh",
   "metadata": {},
   "outputs": [
    {
     "data": {
      "text/html": [
       "<div>\n",
       "<style scoped>\n",
       "    .dataframe tbody tr th:only-of-type {\n",
       "        vertical-align: middle;\n",
       "    }\n",
       "\n",
       "    .dataframe tbody tr th {\n",
       "        vertical-align: top;\n",
       "    }\n",
       "\n",
       "    .dataframe thead th {\n",
       "        text-align: right;\n",
       "    }\n",
       "</style>\n",
       "<table border=\"1\" class=\"dataframe\">\n",
       "  <thead>\n",
       "    <tr style=\"text-align: right;\">\n",
       "      <th></th>\n",
       "      <th></th>\n",
       "      <th>count</th>\n",
       "    </tr>\n",
       "    <tr>\n",
       "      <th>token</th>\n",
       "      <th>pos</th>\n",
       "      <th></th>\n",
       "    </tr>\n",
       "  </thead>\n",
       "  <tbody>\n",
       "    <tr>\n",
       "      <th>,</th>\n",
       "      <th>PUNCT</th>\n",
       "      <td>1665285</td>\n",
       "    </tr>\n",
       "    <tr>\n",
       "      <th>the</th>\n",
       "      <th>DET</th>\n",
       "      <td>813731</td>\n",
       "    </tr>\n",
       "    <tr>\n",
       "      <th>.</th>\n",
       "      <th>PUNCT</th>\n",
       "      <td>719122</td>\n",
       "    </tr>\n",
       "    <tr>\n",
       "      <th>of</th>\n",
       "      <th>ADP</th>\n",
       "      <td>555006</td>\n",
       "    </tr>\n",
       "    <tr>\n",
       "      <th>in</th>\n",
       "      <th>ADP</th>\n",
       "      <td>393055</td>\n",
       "    </tr>\n",
       "    <tr>\n",
       "      <th>...</th>\n",
       "      <th>...</th>\n",
       "      <td>...</td>\n",
       "    </tr>\n",
       "    <tr>\n",
       "      <th>Sarrazin</th>\n",
       "      <th>PROPN</th>\n",
       "      <td>1</td>\n",
       "    </tr>\n",
       "    <tr>\n",
       "      <th>Coroutine</th>\n",
       "      <th>PROPN</th>\n",
       "      <td>1</td>\n",
       "    </tr>\n",
       "    <tr>\n",
       "      <th>communs</th>\n",
       "      <th>PROPN</th>\n",
       "      <td>1</td>\n",
       "    </tr>\n",
       "    <tr>\n",
       "      <th>Sustained</th>\n",
       "      <th>VERB</th>\n",
       "      <td>1</td>\n",
       "    </tr>\n",
       "    <tr>\n",
       "      <th>Hellcats</th>\n",
       "      <th>PROPN</th>\n",
       "      <td>1</td>\n",
       "    </tr>\n",
       "  </tbody>\n",
       "</table>\n",
       "<p>322802 rows × 1 columns</p>\n",
       "</div>"
      ],
      "text/plain": [
       "                   count\n",
       "token     pos           \n",
       ",         PUNCT  1665285\n",
       "the       DET     813731\n",
       ".         PUNCT   719122\n",
       "of        ADP     555006\n",
       "in        ADP     393055\n",
       "...                  ...\n",
       "Sarrazin  PROPN        1\n",
       "Coroutine PROPN        1\n",
       "communs   PROPN        1\n",
       "Sustained VERB         1\n",
       "Hellcats  PROPN        1\n",
       "\n",
       "[322802 rows x 1 columns]"
      ]
     },
     "execution_count": 16,
     "metadata": {},
     "output_type": "execute_result"
    }
   ],
   "source": []
  },
  {
   "cell_type": "code",
   "execution_count": null,
   "id": "engaging-strain",
   "metadata": {},
   "outputs": [],
   "source": []
  }
 ],
 "metadata": {
  "kernelspec": {
   "display_name": "Python 3",
   "language": "python",
   "name": "python3"
  },
  "language_info": {
   "codemirror_mode": {
    "name": "ipython",
    "version": 3
   },
   "file_extension": ".py",
   "mimetype": "text/x-python",
   "name": "python",
   "nbconvert_exporter": "python",
   "pygments_lexer": "ipython3",
   "version": "3.8.5"
  }
 },
 "nbformat": 4,
 "nbformat_minor": 5
}
